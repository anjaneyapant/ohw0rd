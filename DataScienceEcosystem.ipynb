{
 "cells": [
  {
   "cell_type": "markdown",
   "id": "ef3a9b27-a701-4d39-b089-53eb3bc99738",
   "metadata": {},
   "source": [
    "# Data Science Tools and Ecosystem"
   ]
  },
  {
   "cell_type": "markdown",
   "id": "9c2d727a-3230-42f4-b8fe-a25c2aeb68da",
   "metadata": {},
   "source": [
    "## Author\n",
    "Anjaneya Pant"
   ]
  },
  {
   "cell_type": "markdown",
   "id": "f648deea-5b90-44e2-864e-065e09133ce8",
   "metadata": {},
   "source": [
    "#### _In this notebook, Data Science Tools and Ecosystem are summarized_"
   ]
  },
  {
   "cell_type": "markdown",
   "id": "f3c8e9e3-598a-44c1-bc01-e5ccd0231cf3",
   "metadata": {},
   "source": [
    "**Objectives:** \n",
    "\n",
    "\n",
    "    * List commonly used libraries used by Data Scientists\n",
    "    \n",
    "    * List popular languages used by Data Scientists\n",
    "    \n",
    "    * Show how to do arithmetic expressions in Python\n",
    "    \n",
    "    *  Table of three development environment open source tools used in Data Science"
   ]
  },
  {
   "cell_type": "markdown",
   "id": "5f4cf540-170b-418c-9a63-11583865e73c",
   "metadata": {},
   "source": [
    "**Some of the  popular languages that Data Scientists use are:** \n",
    "\n",
    "1. Python\n",
    "2. R\n",
    "3. SQL"
   ]
  },
  {
   "cell_type": "markdown",
   "id": "88c93c6a-f25a-45c0-a820-850f218442ef",
   "metadata": {},
   "source": [
    "**Some of the commonly used libraries used by Data Scientists include:**\n",
    "\n",
    "1. Pandas\n",
    "2. Matplotlib\n",
    "3. SciPy"
   ]
  },
  {
   "cell_type": "markdown",
   "id": "e050fa8c-9941-4cfb-955e-a2ad237a003f",
   "metadata": {},
   "source": [
    "|**Data Science Tools**|\n",
    "|----------------------|\n",
    "| Rstudio |\n",
    "| Jupyter |\n",
    "| Apache Spark |"
   ]
  },
  {
   "cell_type": "markdown",
   "id": "81a4ec88-290f-42ca-b035-df6fdcdf8117",
   "metadata": {},
   "source": [
    "**Below are a few examples of evaluating arithmetic expressions in Python**\n",
    "\n",
    "1. Dividing two numbers: (4/2)\n",
    "2. Finding the remainder of two numbers: (3%2)\n",
    "3. Multiplying two numbers: (3*2)\n"
   ]
  },
  {
   "cell_type": "code",
   "execution_count": 3,
   "id": "1b526646-d925-41d2-884c-4cc08489aca5",
   "metadata": {},
   "outputs": [
    {
     "data": {
      "text/plain": [
       "17"
      ]
     },
     "execution_count": 3,
     "metadata": {},
     "output_type": "execute_result"
    }
   ],
   "source": [
    "# This is a simple arithmetic expression to multiply\n",
    "# then add integers\n",
    "\n",
    "(3*4)+5"
   ]
  },
  {
   "cell_type": "code",
   "execution_count": 1,
   "id": "c275ad07-d31a-48f8-b5d0-7e059a77cce3",
   "metadata": {},
   "outputs": [
    {
     "data": {
      "text/plain": [
       "3.3333333333333335"
      ]
     },
     "execution_count": 1,
     "metadata": {},
     "output_type": "execute_result"
    }
   ],
   "source": [
    "# This will convert 200 minutes to hours\n",
    "# by dividing by 60\n",
    "\n",
    "(200/60)"
   ]
  },
  {
   "cell_type": "code",
   "execution_count": null,
   "id": "dd697533-6906-4846-a5f3-b56a9fa05cb0",
   "metadata": {},
   "outputs": [],
   "source": []
  }
 ],
 "metadata": {
  "kernelspec": {
   "display_name": "Python 3 (ipykernel)",
   "language": "python",
   "name": "python3"
  },
  "language_info": {
   "codemirror_mode": {
    "name": "ipython",
    "version": 3
   },
   "file_extension": ".py",
   "mimetype": "text/x-python",
   "name": "python",
   "nbconvert_exporter": "python",
   "pygments_lexer": "ipython3",
   "version": "3.9.12"
  }
 },
 "nbformat": 4,
 "nbformat_minor": 5
}
